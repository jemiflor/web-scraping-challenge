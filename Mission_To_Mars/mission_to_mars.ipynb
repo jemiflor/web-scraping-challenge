{
 "cells": [
  {
   "cell_type": "code",
   "execution_count": 29,
   "metadata": {},
   "outputs": [],
   "source": [
    "#Dependencies\n",
    "\n",
    "# from splinter import Browser\n",
    "# import requests\n",
    "from webdriver_manager.chrome import ChromeDriverManager\n",
    "\n",
    "# Using selenium industry standard as suggested\n",
    "from selenium import webdriver\n",
    "from selenium.webdriver.common.keys import Keys\n",
    "\n",
    "from bs4 import BeautifulSoup\n",
    "import time\n",
    "\n",
    "from urllib.parse import urljoin\n",
    "\n",
    "import pandas as pd\n"
   ]
  },
  {
   "cell_type": "code",
   "execution_count": 2,
   "metadata": {},
   "outputs": [],
   "source": [
    "#Urls of page to be scraped\n",
    "\n",
    "mars_web_site_url = \"https://redplanetscience.com/\"\n",
    "mars_images_url = \"https://spaceimages-mars.com/\"\n",
    "mars_facts_url = \"https://galaxyfacts-mars.com/\"\n",
    "mars_hemisphere_images_site_url = \"https://marshemispheres.com/\"\n"
   ]
  },
  {
   "cell_type": "code",
   "execution_count": 3,
   "metadata": {},
   "outputs": [],
   "source": [
    "\n",
    "# Setup splinter\n",
    "# executable_path = {'executable_path': ChromeDriverManager().install()}\n",
    "# browser = Browser('chrome', **executable_path, headless=False)\n",
    "\n",
    "\n"
   ]
  },
  {
   "cell_type": "markdown",
   "metadata": {},
   "source": [
    "##### Get page source using Requests/Splinter"
   ]
  },
  {
   "cell_type": "code",
   "execution_count": 4,
   "metadata": {},
   "outputs": [],
   "source": [
    "# Retrieve page using Requests/Splinter\n",
    "\n",
    "# browser.visit(mars_web_site_url)\n",
    "# mars_web_site_splinter_response = browser.html\n",
    "# mars_web_site_splinter_soup = BeautifulSoup(mars_web_site_splinter_response, 'html.parser')\n",
    "\n",
    "# news_splinter_title = mars_web_site_splinter_soup.find_all('div', class_='content_title')[0].text.strip()\n",
    "# news_splinter_p = mars_web_site_splinter_soup.find_all('div', class_='article_teaser_body')[0].text.strip()\n",
    "\n",
    "#print(news_splinter_title)\n",
    "#print(news_splinter_p)"
   ]
  },
  {
   "cell_type": "markdown",
   "metadata": {},
   "source": [
    "##### Get Page source using selenium - Install chrome web driver"
   ]
  },
  {
   "cell_type": "code",
   "execution_count": 5,
   "metadata": {},
   "outputs": [
    {
     "name": "stderr",
     "output_type": "stream",
     "text": [
      "\n",
      "\n",
      "====== WebDriver manager ======\n",
      "Current google-chrome version is 91.0.4472\n",
      "Get LATEST driver version for 91.0.4472\n",
      "Driver [C:\\Users\\jemif\\.wdm\\drivers\\chromedriver\\win32\\91.0.4472.101\\chromedriver.exe] found in cache\n"
     ]
    }
   ],
   "source": [
    "# Initialize chrome web driver\n",
    "driver = webdriver.Chrome(ChromeDriverManager().install()) "
   ]
  },
  {
   "cell_type": "markdown",
   "metadata": {},
   "source": [
    "##### Get Page source using selenium  - Repetitive code"
   ]
  },
  {
   "cell_type": "code",
   "execution_count": 6,
   "metadata": {},
   "outputs": [],
   "source": [
    "# driver.get(mars_web_site_url)\n",
    "# time.sleep(5) \n",
    "# mars_web_site_response = driver.page_source\n",
    "\n",
    "# driver.get(mars_images_url)\n",
    "# time.sleep(5) \n",
    "# mars_images_site_response = driver.page_source\n",
    "\n",
    "# driver.get(mars_facts_url)\n",
    "# time.sleep(5) \n",
    "# mars_facts_site_response = driver.page_source\n",
    "\n",
    "# driver.get(mars_hemisphere_images_site_url)\n",
    "# time.sleep(5) \n",
    "# mars_hemispheres_site_url = driver.page_source"
   ]
  },
  {
   "cell_type": "markdown",
   "metadata": {},
   "source": [
    "##### Get page source - removed repetition by using user defined function"
   ]
  },
  {
   "cell_type": "code",
   "execution_count": 45,
   "metadata": {
    "scrolled": false
   },
   "outputs": [],
   "source": [
    "# Retrieve page using Selenium and chrome driver\n",
    "\n",
    "def get_page_source(url, delay):\n",
    "    driver.get(url)\n",
    "    # if dynamic content - better to wait for few seconds for the content to load\n",
    "    if delay == True:\n",
    "        time.sleep(5)        \n",
    "    return driver.page_source\n",
    "\n",
    "\n",
    "mars_web_site_response = get_page_source(mars_web_site_url, True)\n",
    "mars_images_site_response = get_page_source(mars_images_url, True)\n",
    "mars_facts_site_response = get_page_source(mars_facts_url, False)\n",
    "mars_hemispheres_site_response = get_page_source(mars_hemisphere_images_site_url, False)\n"
   ]
  },
  {
   "cell_type": "markdown",
   "metadata": {},
   "source": [
    "##### Create beautifulsoup objects by parsing with 'html.parser'"
   ]
  },
  {
   "cell_type": "code",
   "execution_count": 46,
   "metadata": {
    "scrolled": false
   },
   "outputs": [],
   "source": [
    "\n",
    "mars_web_site_soup = BeautifulSoup(mars_web_site_response, 'html.parser')\n",
    "mars_images_site_soup = BeautifulSoup(mars_images_site_response, 'html.parser')\n",
    "mars_facts_site_soup = BeautifulSoup(mars_facts_site_response, 'html.parser')\n",
    "mars_hemispheres_site_soup = BeautifulSoup(mars_hemispheres_site_response, 'html.parser')\n"
   ]
  },
  {
   "cell_type": "markdown",
   "metadata": {},
   "source": [
    "##### Scrape the Mars News Site and collect the latest News Title and Paragraph Text. Assign the text to variables for later reference"
   ]
  },
  {
   "cell_type": "code",
   "execution_count": 47,
   "metadata": {},
   "outputs": [],
   "source": [
    "\n",
    "news_title = mars_web_site_soup.find_all('div', class_='content_title')[0].text.strip()\n",
    "news_p = mars_web_site_soup.find_all('div', class_='article_teaser_body')[0].text.strip()\n"
   ]
  },
  {
   "cell_type": "markdown",
   "metadata": {},
   "source": [
    "##### JPL Mars Space Images - Get current Featured Mars Image"
   ]
  },
  {
   "cell_type": "code",
   "execution_count": 48,
   "metadata": {},
   "outputs": [],
   "source": [
    "featured_image_url = mars_images_site_soup.find_all('img', class_='headerimage fade-in')[0]['src']\n",
    "featured_image_url = urljoin(mars_images_url,featured_image_url)\n"
   ]
  },
  {
   "cell_type": "markdown",
   "metadata": {},
   "source": [
    "##### Scrape Mars Facts Using Pandas"
   ]
  },
  {
   "cell_type": "code",
   "execution_count": 89,
   "metadata": {},
   "outputs": [
    {
     "data": {
      "text/html": [
       "<div>\n",
       "<style scoped>\n",
       "    .dataframe tbody tr th:only-of-type {\n",
       "        vertical-align: middle;\n",
       "    }\n",
       "\n",
       "    .dataframe tbody tr th {\n",
       "        vertical-align: top;\n",
       "    }\n",
       "\n",
       "    .dataframe thead th {\n",
       "        text-align: right;\n",
       "    }\n",
       "</style>\n",
       "<table border=\"1\" class=\"dataframe\">\n",
       "  <thead>\n",
       "    <tr style=\"text-align: right;\">\n",
       "      <th></th>\n",
       "      <th>Mars</th>\n",
       "      <th>Earth</th>\n",
       "    </tr>\n",
       "    <tr>\n",
       "      <th>Mars - Earth Comparison</th>\n",
       "      <th></th>\n",
       "      <th></th>\n",
       "    </tr>\n",
       "  </thead>\n",
       "  <tbody>\n",
       "    <tr>\n",
       "      <th>Diameter:</th>\n",
       "      <td>6,779 km</td>\n",
       "      <td>12,742 km</td>\n",
       "    </tr>\n",
       "    <tr>\n",
       "      <th>Mass:</th>\n",
       "      <td>6.39 × 10^23 kg</td>\n",
       "      <td>5.97 × 10^24 kg</td>\n",
       "    </tr>\n",
       "    <tr>\n",
       "      <th>Moons:</th>\n",
       "      <td>2</td>\n",
       "      <td>1</td>\n",
       "    </tr>\n",
       "    <tr>\n",
       "      <th>Distance from Sun:</th>\n",
       "      <td>227,943,824 km</td>\n",
       "      <td>149,598,262 km</td>\n",
       "    </tr>\n",
       "    <tr>\n",
       "      <th>Length of Year:</th>\n",
       "      <td>687 Earth days</td>\n",
       "      <td>365.24 days</td>\n",
       "    </tr>\n",
       "    <tr>\n",
       "      <th>Temperature:</th>\n",
       "      <td>-87 to -5 °C</td>\n",
       "      <td>-88 to 58°C</td>\n",
       "    </tr>\n",
       "  </tbody>\n",
       "</table>\n",
       "</div>"
      ],
      "text/plain": [
       "0                                   Mars            Earth\n",
       "Mars - Earth Comparison                                  \n",
       "Diameter:                       6,779 km        12,742 km\n",
       "Mass:                    6.39 × 10^23 kg  5.97 × 10^24 kg\n",
       "Moons:                                 2                1\n",
       "Distance from Sun:        227,943,824 km   149,598,262 km\n",
       "Length of Year:           687 Earth days      365.24 days\n",
       "Temperature:                -87 to -5 °C      -88 to 58°C"
      ]
     },
     "execution_count": 89,
     "metadata": {},
     "output_type": "execute_result"
    }
   ],
   "source": [
    "mars_facts_html = pd.read_html(mars_facts_url)\n",
    "mars_facts_df = mars_facts_html[0]\n",
    "new_header = mars_facts_df.iloc[0] #grab the first row for the header\n",
    "mars_facts_df = mars_facts_df[1:] #take the data less the header row\n",
    "mars_facts_df.columns = new_header #set the header row as the df header\n",
    "mars_facts_df.set_index('Mars - Earth Comparison', inplace=True)\n",
    "mars_facts_df.reset_index()\n",
    "mars_facts_df"
   ]
  },
  {
   "cell_type": "markdown",
   "metadata": {},
   "source": [
    "##### Pandas DataFrame To HTML Table String"
   ]
  },
  {
   "cell_type": "code",
   "execution_count": 90,
   "metadata": {},
   "outputs": [
    {
     "name": "stdout",
     "output_type": "stream",
     "text": [
      "<table border=\"1\" class=\"dataframe\">\n",
      "  <thead>\n",
      "    <tr style=\"text-align: right;\">\n",
      "      <th></th>\n",
      "      <th>Mars</th>\n",
      "      <th>Earth</th>\n",
      "    </tr>\n",
      "    <tr>\n",
      "      <th>Mars - Earth Comparison</th>\n",
      "      <th></th>\n",
      "      <th></th>\n",
      "    </tr>\n",
      "  </thead>\n",
      "  <tbody>\n",
      "    <tr>\n",
      "      <th>Diameter:</th>\n",
      "      <td>6,779 km</td>\n",
      "      <td>12,742 km</td>\n",
      "    </tr>\n",
      "    <tr>\n",
      "      <th>Mass:</th>\n",
      "      <td>6.39 × 10^23 kg</td>\n",
      "      <td>5.97 × 10^24 kg</td>\n",
      "    </tr>\n",
      "    <tr>\n",
      "      <th>Moons:</th>\n",
      "      <td>2</td>\n",
      "      <td>1</td>\n",
      "    </tr>\n",
      "    <tr>\n",
      "      <th>Distance from Sun:</th>\n",
      "      <td>227,943,824 km</td>\n",
      "      <td>149,598,262 km</td>\n",
      "    </tr>\n",
      "    <tr>\n",
      "      <th>Length of Year:</th>\n",
      "      <td>687 Earth days</td>\n",
      "      <td>365.24 days</td>\n",
      "    </tr>\n",
      "    <tr>\n",
      "      <th>Temperature:</th>\n",
      "      <td>-87 to -5 °C</td>\n",
      "      <td>-88 to 58°C</td>\n",
      "    </tr>\n",
      "  </tbody>\n",
      "</table>\n"
     ]
    }
   ],
   "source": [
    "html_table_string = mars_facts_df.to_html()\n",
    "print(html_table_string)"
   ]
  },
  {
   "cell_type": "markdown",
   "metadata": {},
   "source": [
    "##### Mars Hemispheres"
   ]
  },
  {
   "cell_type": "code",
   "execution_count": 75,
   "metadata": {},
   "outputs": [
    {
     "data": {
      "text/plain": [
       "[{'title': 'Cerberus Hemisphere Enhanced',\n",
       "  'img_url': 'https://marshemispheres.com/images/full.jpg'},\n",
       " {'title': 'Schiaparelli Hemisphere Enhanced',\n",
       "  'img_url': 'https://marshemispheres.com/images/schiaparelli_enhanced-full.jpg'},\n",
       " {'title': 'Syrtis Major Hemisphere Enhanced',\n",
       "  'img_url': 'https://marshemispheres.com/images/syrtis_major_enhanced-full.jpg'},\n",
       " {'title': 'Valles Marineris Hemisphere Enhanced',\n",
       "  'img_url': 'https://marshemispheres.com/images/valles_marineris_enhanced-full.jpg'}]"
      ]
     },
     "execution_count": 75,
     "metadata": {},
     "output_type": "execute_result"
    }
   ],
   "source": [
    "hemisphere_image_urls = []\n",
    "mars_hemispheres_descriptions = mars_hemispheres_site_soup.find_all('div', class_='description')\n",
    "\n",
    "for mars_hemispheres_description in mars_hemispheres_descriptions:\n",
    "    mars_hemispheres_link = mars_hemispheres_description.find(\"a\")\n",
    "    hemisphere_page_url = urljoin(mars_hemisphere_images_site_url, mars_hemispheres_link['href'])\n",
    "    title = mars_hemispheres_link.h3.text.strip()\n",
    "    \n",
    "    hemisphere_page_html = get_page_source(hemisphere_page_url, False)\n",
    "    hemisphere_page_soup = BeautifulSoup(hemisphere_page_html, 'html.parser')\n",
    "    \n",
    "    downloads_div = hemisphere_page_soup.find(\"div\", class_='downloads')\n",
    "    \n",
    "    hemisphere_full_res_img_url = downloads_div.find('ul').find('li', recursive = False).a['href']\n",
    "    \n",
    "    hemisphere_image_urls.append(dict({\n",
    "        \"title\" : title,\n",
    "        \"img_url\" : urljoin(mars_hemisphere_images_site_url ,hemisphere_full_res_img_url)\n",
    "    }))\n",
    "    \n",
    "hemisphere_image_urls"
   ]
  },
  {
   "cell_type": "code",
   "execution_count": 76,
   "metadata": {},
   "outputs": [
    {
     "name": "stderr",
     "output_type": "stream",
     "text": [
      "[NbConvertApp] Converting notebook mission_to_mars.ipynb to script\n",
      "[NbConvertApp] Writing 5022 bytes to scrape_mars.py\n"
     ]
    }
   ],
   "source": [
    "!jupyter nbconvert --to script --output \"scrape_mars\" \"mission_to_mars.ipynb\""
   ]
  }
 ],
 "metadata": {
  "kernelspec": {
   "display_name": "Python 3",
   "language": "python",
   "name": "python3"
  },
  "language_info": {
   "codemirror_mode": {
    "name": "ipython",
    "version": 3
   },
   "file_extension": ".py",
   "mimetype": "text/x-python",
   "name": "python",
   "nbconvert_exporter": "python",
   "pygments_lexer": "ipython3",
   "version": "3.8.5"
  }
 },
 "nbformat": 4,
 "nbformat_minor": 4
}
